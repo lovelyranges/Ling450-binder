{
 "cells": [
  {
   "cell_type": "markdown",
   "id": "4518cb54",
   "metadata": {},
   "source": [
    "## Indirect Quote Implementation\n",
    "\n",
    "#### This method matches indirect quotes using spaCy's Matcher, but spaCy's dependency parser is not used in this implementation.\n"
   ]
  },
  {
   "cell_type": "code",
   "execution_count": 14,
   "id": "f885bae2",
   "metadata": {},
   "outputs": [],
   "source": [
    "import spacy\n",
    "from spacy import displacy\n",
    "from spacy.matcher import Matcher\n",
    "\n",
    "nlp = spacy.load(\"en_core_web_sm\")\n",
    "matcher = Matcher(nlp.vocab)"
   ]
  },
  {
   "cell_type": "code",
   "execution_count": 19,
   "id": "8400d32e",
   "metadata": {},
   "outputs": [],
   "source": [
    "# load a text file. Remember, you have to do 5\n",
    "with open (\"data/5c1dbe1d1e67d78e2797d611.txt\", \"r\", encoding='utf-8') as f:\n",
    "    text1 = f.read()\n",
    "with open (\"data/5c1dccbf1e67d78e279807d8.txt\", \"r\", encoding='utf-8') as f:\n",
    "    text2 = f.read()\n",
    "with open (\"data/5c1de1661e67d78e27984d34.txt\", \"r\", encoding='utf-8') as f:\n",
    "    text3 = f.read()\n",
    "with open (\"data/5c1e0b68795bd2a5d03a49a9.txt\", \"r\", encoding='utf-8') as f:\n",
    "    text4 = f.read()\n",
    "with open (\"data/5c1efb3d1e67d78e279bd39a.txt\", \"r\", encoding='utf-8') as f:\n",
    "    text5 = f.read()\n",
    "    "
   ]
  },
  {
   "cell_type": "code",
   "execution_count": 21,
   "id": "1b38b391",
   "metadata": {},
   "outputs": [
    {
     "name": "stdout",
     "output_type": "stream",
     "text": [
      " CTV Vancouver. \n",
      " An Abbotsford, B.C. couple that has been waiting nearly two years to bring their newly adopted son home from Africa has learned that the Canadian government is not prepared to grant the child citizenship. \n",
      " Kim and Clark Moran received a letter this\n",
      "------\n",
      "When I first walk into his store, a fantastical comic book shop lodged discreetly in Kitchener’s Frederick Mall, I spot him from the corner of my eye, the gracious gatekeeper who invites visitors into a world of fantasy and makes their dreams come true. No\n",
      "------\n",
      "OTTAWA — Conservative Leader Andrew Scheer says Prime Minister Justin Trudeau is the most divisive prime minister in the history of Canada. \n",
      " Scheer is lashing out at Trudeau and the Liberal party for dismissing anyone who disagrees with them, particularly anyone who has questions about Canada’s\n",
      "------\n",
      "Open this photo in gallery A cyclist rides by a shuttered homes in the West Point Grey neighbourhood area of Vancouver on Oct. 29, 2015. Ben Nelms. \n",
      " Last week, Vancouver’s new city council voted resoundingly to send a letter to the provincial government demanding\n",
      "------\n",
      "Employees at a second Stella's Caf location in Winnipeg have voted to unionize. \n",
      " A release sent to media from UFCW Local 832 late Friday said a majority of the 68 workers at the Sherbrook Street Stella's location said yes to joining the union. \n",
      " The\n",
      "------\n"
     ]
    }
   ],
   "source": [
    "# Convert texts to Docs\n",
    "doc1 = nlp(text1)\n",
    "doc2 = nlp(text2)\n",
    "doc3 = nlp(text3)\n",
    "doc4 = nlp(text4)\n",
    "doc5 = nlp(text5)\n",
    "\n",
    "docList = [doc1, doc2, doc3, doc4, doc5]\n",
    "\n",
    "# Show first few contents of each document\n",
    "for doc in docList:\n",
    "    print(doc[0:50])\n",
    "    print(\"------\")"
   ]
  },
  {
   "cell_type": "code",
   "execution_count": 28,
   "id": "77821421",
   "metadata": {},
   "outputs": [
    {
     "name": "stdout",
     "output_type": "stream",
     "text": [
      "--------\n",
      "Kim said the family is working with an immigration lawyer as well as the adoption agency, whose name she would not reveal, as they weigh their options.\n",
      "--------\n",
      "Scheer said when Trudeau and other Liberals dismiss any concerns with the compact out of hand, or try to tie people who challenge it to extremist groups because they have similar opinions on that subject, he is insulting not just the Conservatives but hundreds of thousands of Canadians who have the same questions.\n",
      "--------\n",
      "Conservative Leader Andrew Scheer says Prime Minister Justin Trudeau is the most divisive prime minister in the history of Canada.\n",
      "--------\n",
      "Trudeau said he is not going to shy away from pointing out inaccuracies or falsehoods in Conservative messages.\n",
      "--------\n",
      "Scheer said he is confident the party has learned from that mistake.\n",
      "--------\n",
      "Mr. Fry says he voted yes to voice his objection to the province meddling in taxes collected by the city and proposed an amendment, which council accepted, to reflect that view.\n",
      "--------\n",
      "Traeger​ said he expects the union to help employees negotiate things like scheduling, benefits and how gratuities are paid out.\n",
      "--------\n",
      "Lehla Abreder said they respected the outcome of the vote.\n"
     ]
    }
   ],
   "source": [
    "matcher = Matcher(nlp.vocab)\n",
    "\n",
    "pattern_indirect = [\n",
    "    \n",
    "    # PROPN, speech verbs\n",
    "    # I added a second {'IS_ALPHA': True, \"OP\": \"+\"} to make sure that there are more text included to prevent matches such as \", Jeff said Saturday\"\n",
    "    \n",
    "    [{\"POS\": \"PROPN\", \"OP\": \"+\"}, {'TEXT': {\"IN\": [\"said\", \"says\", \"asked\", \"asks\"]}}, {'IS_ALPHA': True, \"OP\": \"+\"}, {'IS_PUNCT': True, \"OP\": \"*\"}, {'IS_ALPHA': True, \"OP\": \"+\"}, {'IS_PUNCT': True, \"OP\": \"*\"}, {'IS_ALPHA': True, \"OP\": \"*\"}, {'ORTH': \".\"}]\n",
    "    \n",
    "    , \n",
    "    #According to\n",
    "   [{\"TEXT\": 'According to'}, {\"POS\": \"PROPN\", \"OP\": \"+\"}, {'IS_ALPHA': True, \"OP\": \"*\"}, {'IS_PUNCT': True, \"OP\": \"*\"}, {\"IS_ALPHA\": True, \"OP\": \"*\"}, {\"POS\": \"PART\", \"OP\": \"*\"}, {'IS_ALPHA': True, \"OP\": \"*\"}, {'IS_PUNCT': True, \"OP\": \"*\"}, {\"IS_ALPHA\": True, \"OP\": \"*\"}]\n",
    "    \n",
    "]\n",
    "\n",
    "matcher.add(\"INDIRECT QUOTES\", pattern_indirect, greedy=\"LONGEST\")\n",
    "\n",
    "matches1= matcher(doc1)\n",
    "matches2= matcher(doc2)\n",
    "matches3= matcher(doc3)\n",
    "matches4= matcher(doc4)\n",
    "matches5= matcher(doc5)\n",
    "\n",
    "\n",
    "matchList = [matches1, matches2, matches3, matches4, matches5]\n",
    "\n",
    "count = 0\n",
    "# Run all five texts, and add all of the matches from them into a list.\n",
    "for i in range(5):\n",
    "    for match in matchList[count][:10]:\n",
    "        print(\"--------\")\n",
    "        print((docList[count][match[1]:match[2]]))\n",
    "    count += 1\n",
    "\n"
   ]
  },
  {
   "cell_type": "code",
   "execution_count": null,
   "id": "eeecc285",
   "metadata": {},
   "outputs": [],
   "source": []
  }
 ],
 "metadata": {
  "kernelspec": {
   "display_name": "Python 3 (ipykernel)",
   "language": "python",
   "name": "python3"
  },
  "language_info": {
   "codemirror_mode": {
    "name": "ipython",
    "version": 3
   },
   "file_extension": ".py",
   "mimetype": "text/x-python",
   "name": "python",
   "nbconvert_exporter": "python",
   "pygments_lexer": "ipython3",
   "version": "3.9.12"
  }
 },
 "nbformat": 4,
 "nbformat_minor": 5
}
