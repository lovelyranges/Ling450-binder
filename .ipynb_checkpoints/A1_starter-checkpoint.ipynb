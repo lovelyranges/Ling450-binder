{
 "cells": [
  {
   "cell_type": "markdown",
   "id": "73e97487",
   "metadata": {},
   "source": [
    "# Ling 450/807 SFU - Assignment 1\n",
    "\n",
    "This assignment walks you through two different ways of extracting simple quotes from text and then directs you to a third, already implemented way. Your task is to enhance the simple methods or develop your own. For further instructions, check the assignment file on Canvas. \n",
    "The binder contains this notebook and some sample files."
   ]
  },
  {
   "cell_type": "markdown",
   "id": "ab766cdc",
   "metadata": {},
   "source": [
    "Group 1: Antanila, Rachel, Lovely"
   ]
  },
  {
   "cell_type": "markdown",
   "id": "ffd654f4",
   "metadata": {},
   "source": [
    "## Approach 1: Using regular expressions"
   ]
  },
  {
   "cell_type": "code",
   "execution_count": 1,
   "id": "4c548f62",
   "metadata": {},
   "outputs": [],
   "source": [
    "import spacy\n",
    "import re"
   ]
  },
  {
   "cell_type": "code",
   "execution_count": 2,
   "id": "ae5207a4",
   "metadata": {},
   "outputs": [],
   "source": [
    "# this loads and processes only one file at a time. You need to do 5 and comment on the results\n",
    "# to load the 5 texts, you can just change the name of the file below or figure out a way \n",
    "# to pass a list of files to the read command. It's up to you\n",
    "\n",
    "with open (\"data/5c1dbe1d1e67d78e2797d611.txt\", \"r\", encoding='utf-8') as f:\n",
    "    text = f.read()"
   ]
  },
  {
   "cell_type": "code",
   "execution_count": 3,
   "id": "facf0d87",
   "metadata": {},
   "outputs": [],
   "source": [
    "def find_sents(text):\n",
    "    nlp = spacy.load(\"en_core_web_sm\")\n",
    "    doc = nlp(text)\n",
    "    sentences = list(doc.sents)\n",
    "    return(sentences)"
   ]
  },
  {
   "cell_type": "markdown",
   "id": "e9b25ae3",
   "metadata": {},
   "source": [
    "### Finding text within quotes"
   ]
  },
  {
   "cell_type": "code",
   "execution_count": 4,
   "id": "15e6dae0",
   "metadata": {},
   "outputs": [],
   "source": [
    "def get_quotes(text):\n",
    "    quotes = re.findall(r' \"(.*?)\"', text)\n",
    "    return(quotes)"
   ]
  },
  {
   "cell_type": "code",
   "execution_count": 5,
   "id": "9211596c",
   "metadata": {},
   "outputs": [],
   "source": [
    "found_sents = find_sents(text)"
   ]
  },
  {
   "cell_type": "code",
   "execution_count": 6,
   "id": "44e54193",
   "metadata": {},
   "outputs": [
    {
     "name": "stdout",
     "output_type": "stream",
     "text": [
      "[\"Honestly, it feels like we're living our worst nightmare right now,\"]\n",
      "['It does say that in the letter,', 'I have no idea where that information came from because both Clark and I were there in the office with all of the workers from the orphanage.']\n",
      "['the Government of Canada has obligations under international conventions to ensure children are not abducted, bought or sold, or removed from their biological families without legal consent.']\n",
      "['in some cases, extra steps in the citizenship or immigration process may be needed to make sure the adoption meets all requirements of international adoption.']\n",
      "[\"We're not giving up, but it feels really overwhelming to think about what this means and what they're trying to do to us right now,\"]\n",
      "[\"I can't believe that this is our life, that this is our story.\"]\n"
     ]
    }
   ],
   "source": [
    "# note: this just prints the text in quotes. If you want to save it locally\n",
    "# to analyze how the 3 approaches are different, you need to run a command to save\n",
    "# for instance to a text file\n",
    "\n",
    "for sent in found_sents:\n",
    "    str_sent = str(sent)\n",
    "    found_quotes = get_quotes(str_sent)\n",
    "    if len(found_quotes) > 0:\n",
    "        print(found_quotes)"
   ]
  },
  {
   "cell_type": "markdown",
   "id": "8d8c6a71",
   "metadata": {},
   "source": [
    "## Approach 2: Using spaCy's Matcher"
   ]
  },
  {
   "cell_type": "markdown",
   "id": "92488d32",
   "metadata": {},
   "source": [
    "This approach is based on notebooks by Dr. W.J.B. Mattingly, http://spacy.pythonhumanities.com"
   ]
  },
  {
   "cell_type": "code",
   "execution_count": 3,
   "id": "c740d981",
   "metadata": {},
   "outputs": [],
   "source": [
    "# load all the stuff we'll need\n",
    "import spacy\n",
    "from spacy import displacy\n",
    "from spacy.matcher import Matcher\n",
    "\n",
    "nlp = spacy.load(\"en_core_web_sm\")\n",
    "matcher = Matcher(nlp.vocab)"
   ]
  },
  {
   "cell_type": "markdown",
   "id": "411eae45",
   "metadata": {},
   "source": [
    "## spaCy's Matcher\n",
    "This notebook relies on spaCy's Matcher (see Advanced NLP with spaCy, [chapter 2](https://course.spacy.io/en/chapter2)). "
   ]
  },
  {
   "cell_type": "markdown",
   "id": "d2ed7cac",
   "metadata": {},
   "source": [
    "## Finding quotes and speakers"
   ]
  },
  {
   "cell_type": "code",
   "execution_count": 4,
   "id": "29bad1a4",
   "metadata": {},
   "outputs": [],
   "source": [
    "# load a text file. Remember, you have to do 5\n",
    "with open (\"data/5c1dbe1d1e67d78e2797d611.txt\", \"r\", encoding='utf-8') as f:\n",
    "    text = f.read()\n",
    "with open (\"data/5c1dccbf1e67d78e279807d8.txt\", \"r\", encoding='utf-8') as f:\n",
    "    text2 = f.read()\n",
    "with open (\"data/5c1de1661e67d78e27984d34.txt\", \"r\", encoding='utf-8') as f:\n",
    "    text3 = f.read()\n",
    "with open (\"data/5c1e0b68795bd2a5d03a49a9.txt\", \"r\", encoding='utf-8') as f:\n",
    "    text4 = f.read()\n",
    "with open (\"data/5c1efb3d1e67d78e279bd39a.txt\", \"r\", encoding='utf-8') as f:\n",
    "    text5 = f.read()\n",
    "    \n",
    "    "
   ]
  },
  {
   "cell_type": "code",
   "execution_count": 20,
   "id": "34f969ec",
   "metadata": {},
   "outputs": [
    {
     "name": "stdout",
     "output_type": "stream",
     "text": [
      " CTV Vancouver. \n",
      " An Abbotsford, B.C. couple that has been waiting nearly two years to bring their newly adopted son home from Africa has learned that the Canadian government is not prepared to grant the child citizenship. \n",
      " Kim and Clark Moran received a letter this week from Immigration, Refugees and Citizenship Canada informing them that the federal department has concerns about two-year-old Ayo, whom the couple claims they adopted from an orphanage in Nigeria and gained custody of in August. \n",
      " \"Honestly, it feels like we're living our worst nightmare right now,\" Kim told CTV News Friday. \"The fact that we are being accused right now of an unethical adoption is crazy.\". \n",
      " CTV News has learned that a third party has come forward with an allegation that Ayo's adoption came from a private residence and not an orphanage. \n",
      " \"It does say that in the letter,\" Kim confirmed, adding that \"I have no idea where that information came from because both Clark and I were there in the office with all of the workers from the orphanage.\". \n",
      " Kim would not share a copy of the letter with CTV. \n",
      " In a statement, IRCC did not reveal any details regarding the Ayo's paperwork, but said \"the Government of Canada has obligations under international conventions to ensure children are not abducted, bought or sold, or removed from their biological families without legal consent.\". \n",
      " The department added that \"in some cases, extra steps in the citizenship or immigration process may be needed to make sure the adoption meets all requirements of international adoption.\". \n",
      " The Morans' story first made headlines in October, some three months after they first travelled to Africa to finalize the adoption. \n",
      " According to Kim, the Canadian high commission in Nigeria doesn't have an immigration office, so all adoptions out of that country have to be processed in Ghana. \n",
      " Thinking that the immigration papers that would allow them to bring Ayo back to B.C. wouldn't take more than a few weeks to be finalized, Clark headed back to Canada while Kim and their son remained in Accra. \n",
      " It would be months, however, before the family got an update. \n",
      " Kim was forced to switch places with Clark late last month after her multiple sclerosis flared up. \n",
      " He is now in Ghana with Ayo and she is back in B.C., but it's unclear what the family's future will look like. \n",
      " \"If Canada doesn't grant him citizenship, what happens? They send him back to Nigeria to an orphanage? They take him from us even though he's legally our son?\" Kim said. \n",
      " IRCC has told CTV that under ideal circumstances, the two-step adoption and immigration process can take between six and eight months, but that timeframe can be as long as two years depending on the child's country of origin and other factors. \n",
      " The Morans' paperwork was received in February 2017. A year and 10 months later, the family's adoption process is at the top end of the government's estimated timeline, but has not exceeded it. \n",
      " The Morans have 60 days to respond to the letter, and the IRCC stressed Friday that a final decision on Ayo's citizenship application has not yet been made. \n",
      " Kim said the family is working with an immigration lawyer as well as the adoption agency, whose name she would not reveal, as they weigh their options. \n",
      " \"We're not giving up, but it feels really overwhelming to think about what this means and what they're trying to do to us right now,\" she said. \n",
      " \"I can't believe that this is our life, that this is our story.\". \n",
      " With files from CTV Vancouver's Ben Miljure\n",
      "\n",
      "------\n",
      "When I first walk into his store, a fantastical comic book shop lodged discreetly in Kitchener’s Frederick Mall, I spot him from the corner of my eye, the gracious gatekeeper who invites visitors into a world of fantasy and makes their dreams come true. No, I’m not talking about Ricardo Montalban, who played that rugged emissary of wish-fulfilment, Mr. Roarke, on TV’s Fantasy Island with help from his sidekick, Tattoo. \n",
      " Alfonso Espinos, Andre Campbell, and Alexander Wise inside Studiocomix Press in Frederick Mall, Kitchene. Studiocomix Press is an indie comic-book publisher that will publish anything by anyone. ( Peter Lee / Waterloo Region Record ). \n",
      " I’m talking about Alfonso Espinos, who like Montalban was born in Mexico and made his way to North America to fulfil dreams of a different kind. “We dedicate ourselves solely to independent comic books and local creators,’’ says the 39-year-old founder of Studiocomix Press, which recently celebrated its first birthday. The operation is Waterloo Region’s sole indie comic-book store that is also a printer and publisher — possibly the only one in Canada (or the world). “If you want Marvel, you can go to another comic book shop.”. \n",
      " Article Continued Below. \n",
      " Forget superheroes. They’re represented, but for Espinos — whose store carries works by 200 indie comic-book artists — they’re the tip of the iceberg. “You’re talking about one genre only,” points out the laid-back Cambridge resident, who moved to Canada 15 years ago. “The vast majority of artists do not do superhero comics. There’s sci-fi, horror, children’s, Westerns …” Festooned with colourful indie comics of all styles, genres and levels of expertise, the store is an inspiring tribute to the art of the possible — an escapist retreat with an empowering subtext. “I’m a comic book creator myself,” notes Espinos, who launched his career as a teenager in Mexico and met the now-deceased Marvel guru Stan Lee three times. \n",
      " “I was on the other side 20 years ago. I understand what their needs are.” He’s being modest. To the people who seek his help creating and displaying their art, the ball-capped entrepreneur — whose clients include Mitch Markowitz from The Hilarious House of Frightenstein and the guy who played Joey Jeremiah on Degrassi Junior High — is less publisher than mentor, friend and overseer. \n",
      " Article Continued Below. \n",
      " “Every publisher rejected me,” says Cambridge cartoonist Andre Campbell, whose superhero in Starkeeper uses a wheelchair and is patterned after his own life. “They liked my stories, but not the art. They were looking for the DC Comics style.” Campbell has cerebral palsy, which creates physical challenges that make a computer critical for drawing his distinctive, visually arresting artwork. His universal message of diversity and inclusion? That comes directly from his brain. “In my experience, there hasn’t been a whole lot of representation of disabled characters in comics,” says the bow-tied maverick, noting that his disability doesn’t define who he is. “I wanted to emphasize that no matter who you are you can do anything.” In Espinos, he found a willing accomplice, a guy willing to nurture his vision without judgment. “Before I met Alfonso, I didn’t really have a lot of faith in the industry,” says Campbell, whose superhero was inspired, in part, by DC crime-fighter the Green Lantern. “Now I have tons.” His determination has paid off, with sales of 500 copies of his two comics turning the 29-year-old sensitivity trainer at Extend-A-Family into an inspiration for others with physical challenges. “They say, ‘Oh my God, you’re doing this? Maybe I can too!’ ” It’s not about scale or a guest spot on Jimmy Kimmel. None of Espinos’ clients are in it for the money. “Most places will not print anything less than 1,000 copies,” says Campbell’s partner, Jason Louth. The Studiocomix minimum is … “One!” says the affable proprietor. “No, two … (laughs) one goes on the shelf.” Never mind the sales figures. There is a particular satisfaction, insists 16-year-old Xander Wise, in seeing your vision through to completion, to know you’ve created a piece of art, no matter how many copies you sell. “It’s months and months of doing panels and fixing mistakes,” says the self-taught Cambridge resident, who sold 40 copies of his mystical war comic Forgotten Grunt: The Undead Soldier, inspired by the movies Platoon and Apocalypse Now. “But as soon as you do all that work and have that copy in your hands, you realize it’s all been worth it. There have been a few times where I was feeling unmotivated, but as soon as I saw how it turned out I was more than happy.” “If Alfonso wasn’t publishing local comics, I don’t think Xander would be doing what he’s doing,” says Wise’s dad, Darrin. For Espinos, who understands the challenges of ambition without unlimited financial backing, he’s simply filling a market niche. “You gotta start somewhere,” he says matter-of-factly. “Nobody starts out selling 50,000 copies. Every artist has a different definition of success.” Email: jrubinoff@therecord.com\n",
      "------\n",
      "OTTAWA — Conservative Leader Andrew Scheer says Prime Minister Justin Trudeau is the most divisive prime minister in the history of Canada. \n",
      " Scheer is lashing out at Trudeau and the Liberal party for dismissing anyone who disagrees with them, particularly anyone who has questions about Canada’s immigration system. \n",
      " READ MORE: Federal budget won’t be balanced until 2040, Finance Department says. \n",
      " “I actually think Justin Trudeau’s approach to label people who have legitimate concerns with his issues as being un-Canadian and intolerant, that is very dangerous,” said Scheer. \n",
      " His comments come several days after Trudeau told The Canadian Press that Scheer and the Conservatives were playing a dangerous game themselves by lying to Canadians to drum up fear over immigration. \n",
      " WATCH: Scheer receives warm welcome at oil rally. \n",
      " Both leaders are issuing similar accusations at the same time as they are promising to run positive, upbeat campaigns for the 2019 election. \n",
      " READ MORE: Western Canadian grassroots group plans ‘Convoy to Ottawa’ to push pipelines. \n",
      " Following their 2015 election loss the Conservatives acknowledged they had taken on a more negative tone and pledged to brighten up by the next campaign. In an interview in front of a roaring fire in the living room of his official residence in Ottawa, Scheer said he is confident the party has learned from that mistake. \n",
      " If any of his MPs resort to name-calling — Calgary MP Michelle Rempel earlier this week called Immigration Minister Ahmed Hussen a “chicken” on Twitter, for example — Scheer insists it is in reaction to the Liberals and doesn’t apologize for it. \n",
      " Also, you don’t show up to debate me. You had your cronies vote down a motion to appear before our committee to get grilled on immigration levels. Every time you appear to “debate”, you are condescending and smug your defence of the indefensible. Bring it, but you won’t. Chicken. https://t.co/oI5iCg4bU3 — Michelle Rempel (@MichelleRempel) December 18, 2018. \n",
      " “When we’re the victims of insulting language and attacks it’s obviously going to evoke a response,” he said. \n",
      " But he said the general message the Conservatives will put to Canadians “will have a positive aspirational aspect to it.”. \n",
      " READ MORE: ‘Domestic realities,’ not #WelcomeToCanada tweet, to blame for migrants ‘fleeing’ U.S.: Trudeau. \n",
      " It is on Trudeau’s watch, Scheer said, that the country is facing regional divisions and jurisdictional battles over oil pipelines. And it is on Trudeau’s watch, he went on, that what the Conservatives call “illegal border crossers” have become a major problem, Over 38,000 irregular migrants who originate from places like Haiti, Somalia and El Salvador have arrived in Canada since the beginning of 2017. \n",
      " Scheer said he and his party are not anti-immigration, they are anti-cheaters. \n",
      " WATCH: Canadians’ detainment demonstrate’s Trudeau’s ‘naïve approach’ to relations with China: Scheer. \n",
      " “The Conservative party believes Canada is stronger for being able to welcome people from all over the world. We are proud of being in a country that has the ability to welcome people who are facing persecution and fleeing civil war and genocide. But in order to be able to continue to have that type of a system we have to maintain the confidence of Canadians in it. We have to make sure people come to Canada the right way,” he said. \n",
      " READ MORE: It’s advantage Liberals going into 2019, with Conservatives needing a Trudeau stumble: Ipsos poll. \n",
      " A spokeswoman for Trudeau said he is not going to shy away from pointing out inaccuracies or falsehoods in Conservative messages. \n",
      " “Canadians clearly rejected Stephen Harper’s divisive approach in the last election, which is the same approach the Conservatives are relying on now,” said Eleanore Catenaro. “Whether it is spreading falsehoods about immigration, ignoring the science behind climate change, or engaging in personal attacks, Mr. Scheer and the Conservatives are continuing to play up people’s fears and anxieties for short-term political gain.”. \n",
      " WATCH: Trudeau discusses Alberta oil crisis and Western alienation. \n",
      " Scheer’s stance against the recent United Nations Global Compact for Safe, Orderly and Regular Migration was one of the things that provoked anger in Trudeau. Trudeau said the Conservatives are flat-out lying when they say the agreement overrides Canada’s sovereignty to make decisions about its immigration system or will force media to take specific positions on immigration. \n",
      " READ MORE: Some politicians trying to ‘exploit’ Western alienation over Trans Mountain: Trudeau. \n",
      " Several immigration lawyers and experts say the compact is not binding and mainly is an attempt to help the world bring order and consistency to the growing numbers of migrants fleeing war, persecution, famine or extreme weather. \n",
      " Scheer said when Trudeau and other Liberals dismiss any concerns with the compact out of hand, or try to tie people who challenge it to extremist groups because they have similar opinions on that subject, he is insulting not just the Conservatives but hundreds of thousands of Canadians who have the same questions. \n",
      " “People who have those legitimate concerns deserve to be spoken to with respect and have their concerns taken into account, not brushed aside with insulting labels,” Scheer said. “That’s I think a very dangerous thing to do. “It really evokes a negative reaction.”\n",
      "------\n",
      "Open this photo in gallery A cyclist rides by a shuttered homes in the West Point Grey neighbourhood area of Vancouver on Oct. 29, 2015. Ben Nelms. \n",
      " Last week, Vancouver’s new city council voted resoundingly to send a letter to the provincial government demanding it repeal the so-called school tax. A more accurate label for the new tax, which is not earmarked for schools but headed for general revenue, would have been a wealth or mansion tax. It hits property-rich homeowners with houses worth more than $3-million. The proceeds will be collected along with Vancouver property and regular school taxes in 2019. \n",
      " Council’s motion is as symbolic as branding Vancouver a nuclear-free zone. There’s nothing council can do except add its voice to the howl coming from residents in Vancouver’s tony West Side neighbourhoods. Some were so incensed when the tax was announced they uncharacteristically hoisted signs and banners at a May protest wearing summer casual shoes nicer than most. Residents in David Eby’s wealthy Point Grey riding are so angry many people think the popular Attorney-General might lose his seat come the next election. \n",
      " Bifurcated property taxes are new to Vancouver, so it is understandable that those hit by the tax feel they are unfair. Some are seniors with little or no income living in homes they bought years ago and feel affronted at being singled out with a school-tax surcharge on top of city property taxes that are going up by 4.5 per cent. They can, of course, defer paying their taxes, but most balk at the idea. However, the tax is popular among vast numbers of British Columbians who can no longer dream of buying a home at today’s inflated prices. \n",
      " Story continues below advertisement. \n",
      " Most of the city council votes broke down as you might expect. Members of the Non-Partisan Association showed their alignment with the provincial Liberals by voting yes. Mayor Kennedy Stewart voted true to his NDP roots and was joined by Christine Boyle and Jean Swanson who are further to the left. And on this occasion, the three Green Party members swung the vote and sided with the NPA against the tax. \n",
      " Green Party councillor Adriane Carr had campaigned against the school surcharge, so her stand was expected. While Vancouverites are confident about where the civic Green Party stands on environmental questions, they are still trying to get the feel for their views on social and economic issues. Will the two newest Green councillors, Pete Fry and Michael Wiebe, be at odds with Ms. Carr, who tends to support the status quo thereby favouring existing property owners? Or will they veer left and take up the charge for renters and those less privileged Vancouverites? Ms. Carr and Mr. Wiebe did not respond to calls on the question. \n",
      " But Mr. Fry, who was stunned by the backlash after he voted in favour of the repeal letter, said in retrospect he feels voting yes was a misstep. He believes there is nothing wrong with charging wealthy people more tax and acknowledges the windfalls made solely by virtue of property ownership. \n",
      " Before the vote, he texted back and forth with his colleague Mr. Wiebe, who also had reservations about voting yes. Ultimately, they decided to side with Ms. Carr, the veteran Green councillor. It wasn’t worth a split, given that with her and all the NPA councillors on side, the vote was destined to win. \n",
      " Mr. Fry says he voted yes to voice his objection to the province meddling in taxes collected by the city and proposed an amendment, which council accepted, to reflect that view. City requests to the province to change the Vancouver Charter are often rebuffed, he says, and he was upset by the provincial incursion onto city turf. \n",
      " He now realizes that is not at all how the public saw it. His social media feed blew up with residents disappointed that he sided with the wealthy. Mr. Fry describes himself as the most left-leaning Green on council. “Why would I pander to the millionaires club?” He now calls it a rookie mistake. \n",
      " For council as a whole, the motion was political gamesmanship, a reflection of political alignments along ideological lines. For the Greens it was a hint of far more challenging decisions to come on issues that don’t fall neatly into their environmental agenda. One of the most interesting things about 2019 will be watching them sort out where they stand. \n",
      " Story continues below advertisement. \n",
      " Story continues below advertisement. \n",
      " Adrienne Tanner is a Vancouver journalist who writes about civic affairs.\n",
      "------\n",
      "Employees at a second Stella's Caf location in Winnipeg have voted to unionize. \n",
      " A release sent to media from UFCW Local 832 late Friday said a majority of the 68 workers at the Sherbrook Street Stella's location said yes to joining the union. \n",
      " The move follows a vote at the Winnipeg restaurant chain's Osborne Village location Thursday that saw 20 of the 23 employees there also decide to join the union. \n",
      " \"It's a positive thing for the workers at Stella's. They now have a unified voice to bring their concerns forward to management\" UFCW Local 832 president Jeff Traeger said Saturday. \n",
      " \"We're confident that we can do a lot of good things for the people at Stella's. It's not going to happen in one day or one contract — but the process is now started so we can begin the journey to providing a better workplace and better working conditions.\". \n",
      " Winnipeg restaurateurs are taking the opportunity to revisit or augment their HR policies after more than 275 disclosures of workplace incidents blew up on social media under the tag \"Not My Stella's.\" 2:22. \n",
      " Traeger said roughly 65 per cent of the Sherbrook Street location's employees voted in favour of joining the union. \n",
      " He said the union plans to meet with employees from both unionized locations early in the new year to discuss issues, and will then meet with management to begin scheduling dates to negotiate their first contract. \n",
      " In an emailed statement, Stella's owners Tore Sohlberg and Lehla Abreder said they respected the outcome of the vote. \n",
      " \"Our priority is ensuring that we have a respectful, supportive and healthy workplace where employees can thrive and grow in a safe, positive environment,\" they said. \n",
      " Social media campaign. \n",
      " The votes followed a social media campaign about workplace treatment at the restaurants called Not My Stella's. Shortly after the Instagram account went up in November, dozens of current and former employees posted instances of sexual harassment, discrimination, bullying and abuse from senior staff. \n",
      " As well as the issues brought up during the online campaign, Traeger​ said he expects the union to help employees negotiate things like scheduling, benefits and how gratuities are paid out. \n",
      " He said unionization is overdue in the restaurant industry, and added he doesn't think customers will mind paying more for a meal if it means restaurant workers are getting paid more and receiving benefits. \n",
      " Three former Stella's Cafe employees behind an online campaign to bring attention to what they call workplace harassment, unfair treatment of staff, racism, and sexual assault at the Winnipeg restaurant chain have outlined what they'd like to see done about their concerns. 2:43. \n",
      " \"Do you want to eat a cheaper dinner off the backs of somebody that's struggling to make ends meet even if they're working as many hours as they can get?\" he said. \n",
      " \"For me, personally, I would rather pay a dollar or two extra at dinner time to make sure that the employees that are working hard to serve my food are taken care of properly.\". \n",
      " The UFCW will represent all servers, dishwashers, cooks, hosts and baristas at the both locations, according to the union's Friday release. \n",
      " Stella's has seven locations in Winnipeg and employs more than 500 people in total. \n",
      " Traeger wouldn't comment when asked if other Stella's locations are considering holding votes on whether or not to join the union. \n",
      " The UFCW is a private-sector union that represents more than 250,000 workers across Canada. \n",
      " More from CBC Manitoba:\n",
      "------\n"
     ]
    }
   ],
   "source": [
    "# Convert texts to Docs\n",
    "doc = nlp(text)\n",
    "doc2 = nlp(text2)\n",
    "doc3 = nlp(text3)\n",
    "doc4 = nlp(text4)\n",
    "doc5 = nlp(text5)\n",
    "\n",
    "docList = [doc, doc2, doc3, doc4, doc5]\n",
    "\n",
    "# Show first few contents of each document\n",
    "for doc in docList:\n",
    "    print(doc)\n",
    "    print(\"------\")"
   ]
  },
  {
   "cell_type": "markdown",
   "id": "a749f943",
   "metadata": {},
   "source": [
    "### Finding proper nouns"
   ]
  },
  {
   "cell_type": "code",
   "execution_count": 17,
   "id": "86fedc97",
   "metadata": {},
   "outputs": [
    {
     "name": "stdout",
     "output_type": "stream",
     "text": [
      "56\n",
      "(3232560085755078826, 111, 114) CTV News Friday\n",
      "(3232560085755078826, 1, 3) CTV Vancouver\n",
      "(3232560085755078826, 44, 46) Clark Moran\n",
      "(3232560085755078826, 56, 58) Citizenship Canada\n",
      "(3232560085755078826, 135, 137) CTV News\n",
      "(3232560085755078826, 722, 724) CTV Vancouver\n",
      "(3232560085755078826, 725, 727) Ben Miljure\n",
      "(3232560085755078826, 6, 7) Abbotsford\n",
      "(3232560085755078826, 8, 9) B.C.\n",
      "(3232560085755078826, 25, 26) Africa\n"
     ]
    }
   ],
   "source": [
    "## Extract multi-word nouns \n",
    "## greedy = \"LONGEST\" will match as much as possible of the noun, in this case, do we want \"CTV News Friday\" or just Friday?\n",
    "\n",
    "matcher = Matcher(nlp.vocab)\n",
    "pattern_n = [{\"POS\": \"PROPN\", \"OP\": \"+\"}]\n",
    "matcher.add(\"PROPER_NOUNS\", [pattern_n], greedy=\"LONGEST\")\n",
    "doc = nlp(text)\n",
    "matches = matcher(doc)\n",
    "print (len(matches))\n",
    "for match in matches[:10]:\n",
    "    print (match, doc[match[1]:match[2]])\n"
   ]
  },
  {
   "cell_type": "markdown",
   "id": "0bba7ee4",
   "metadata": {},
   "source": [
    "### Finding quotes"
   ]
  },
  {
   "cell_type": "code",
   "execution_count": 21,
   "id": "3f857916",
   "metadata": {},
   "outputs": [
    {
     "name": "stdout",
     "output_type": "stream",
     "text": [
      "3\n",
      "(16432004385153140588, 115, 133) \"The fact that we are being accused right now of an unethical adoption is crazy.\"\n",
      "(16432004385153140588, 164, 174) \"It does say that in the letter,\"\n",
      "(16432004385153140588, 179, 209) \"I have no idea where that information came from because both Clark and I were there in the office with all of the workers from the orphanage.\"\n"
     ]
    }
   ],
   "source": [
    "# a simple pattern to extract things in single quotes\n",
    "# as with Approach 1, the for loop prints the results to the screen\n",
    "# you can try and save it to a file if you want to compare with Approach 1 and 3\n",
    "\n",
    "matcher = Matcher(nlp.vocab)\n",
    "pattern_q = [{'ORTH': '\"'}, {'IS_ALPHA': True, \"OP\": \"+\"}, {'IS_PUNCT': True, \"OP\": \"*\"}, {'ORTH': '\"'}]\n",
    "matcher.add(\"QUOTES\", [pattern_q], greedy='LONGEST')\n",
    "doc = nlp(text)\n",
    "matches_q = matcher(doc)\n",
    "matches_q.sort(key = lambda x: x[1])\n",
    "print (len(matches_q))\n",
    "for match in matches_q[:10]:\n",
    "    print (match, doc[match[1]:match[2]])\n"
   ]
  },
  {
   "cell_type": "markdown",
   "id": "2f1560a6",
   "metadata": {},
   "source": [
    "### Expansion on Approach 2: \"capture all the strings in quotes, but not shorter strings that are not really quotes, and the speaker of each quote.\""
   ]
  },
  {
   "cell_type": "code",
   "execution_count": 32,
   "id": "fa34e830",
   "metadata": {},
   "outputs": [
    {
     "name": "stdout",
     "output_type": "stream",
     "text": [
      "5\n",
      "(3232560085755078826, 110, 114) told CTV News Friday\n",
      "(3232560085755078826, 174, 176) Kim confirmed\n",
      "(3232560085755078826, 508, 510) Kim said\n",
      "(3232560085755078826, 514, 516) told CTV\n",
      "(3232560085755078826, 633, 635) Kim said\n"
     ]
    }
   ],
   "source": [
    "# Match quote to speaker\n",
    "# Expansion: To capture speaker, make use of speech verbs\n",
    "\n",
    "speech_verbs = [\"told\", \"confirmed\", \"notes\", \"says\", \"said\"]\n",
    "\n",
    "matcher = Matcher(nlp.vocab)\n",
    "#pattern_n = [{\"POS\": \"PROPN\", \"OP\": \"+\"}]\n",
    "\n",
    "pattern_test = [\n",
    "    \n",
    "    #\"___\", said Alice\n",
    "    [{\"ORTH\": {\"IN\": speech_verbs}}, {\"ORTH\": \",\", \"OP\": \"*\"},{\"POS\": \"PROPN\", \"OP\": \"+\"}],\n",
    "    \n",
    "    #Alice said ___\n",
    "    [{\"POS\": \"PROPN\", \"OP\": \"+\"}, {\"ORTH\": {\"IN\": speech_verbs}}]\n",
    "    \n",
    "]\n",
    "matcher.add(\"PROPER_NOUNS\", pattern_test, greedy=\"LONGEST\")\n",
    "doc = nlp(text)\n",
    "matches = matcher(doc)\n",
    "print (len(matches))\n",
    "for match in matches[:10]:\n",
    "    print (match, doc[match[1]:match[2]])\n",
    "    "
   ]
  },
  {
   "cell_type": "markdown",
   "id": "f0a9e0bd",
   "metadata": {},
   "source": [
    "## Approach 3: Implemented version\n",
    "This approach was implemented by colleagues at the [Australian Text Analytics Platform](https://www.atap.edu.au/) (ATAP). The approach is based on the [Gender Gap Tracker](https://github.com/sfu-discourse-lab/GenderGapTracker) done in the Discourse Processing Lab here at SFU. \n",
    "\n",
    "The first link below leads you to a binder where you can load your own files and download the output. If you prefer to do everything in your own notebook, you can download/clone the project and you'll see a notebook there (quote_extractor_notebook.ipynb)\n",
    "\n",
    "* [Binder link](https://github.com/Australian-Text-Analytics-Platform/quotation-tool/blob/workshop_01_20220908/README.md)\n",
    "* [Regular GitHub project](https://github.com/Australian-Text-Analytics-Platform/quotation-tool)\n",
    "\n",
    "Within the ATAP binder, upload 5 files from A1/data (the same you did for approaches 1 and 2), process them and download the results to your own computer. "
   ]
  },
  {
   "cell_type": "markdown",
   "id": "6115a0d8",
   "metadata": {},
   "source": [
    "## Your turn\n",
    "\n",
    "Check instructions on Canvas for what to do and what to submit. \n",
    "\n"
   ]
  },
  {
   "cell_type": "code",
   "execution_count": null,
   "id": "a925ebf9",
   "metadata": {},
   "outputs": [],
   "source": []
  }
 ],
 "metadata": {
  "kernelspec": {
   "display_name": "Python 3 (ipykernel)",
   "language": "python",
   "name": "python3"
  },
  "language_info": {
   "codemirror_mode": {
    "name": "ipython",
    "version": 3
   },
   "file_extension": ".py",
   "mimetype": "text/x-python",
   "name": "python",
   "nbconvert_exporter": "python",
   "pygments_lexer": "ipython3",
   "version": "3.9.12"
  }
 },
 "nbformat": 4,
 "nbformat_minor": 5
}
