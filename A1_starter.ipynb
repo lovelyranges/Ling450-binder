{
 "cells": [
  {
   "cell_type": "markdown",
   "id": "73e97487",
   "metadata": {},
   "source": [
    "# Ling 450/807 SFU - Assignment 1\n",
    "\n",
    "This assignment walks you through two different ways of extracting simple quotes from text and then directs you to a third, already implemented way. Your task is to enhance the simple methods or develop your own. For further instructions, check the assignment file on Canvas. \n",
    "The binder contains this notebook and some sample files."
   ]
  },
  {
   "cell_type": "markdown",
   "id": "ab766cdc",
   "metadata": {},
   "source": [
    "Group 1: Antanila, Rachel, Lovely"
   ]
  },
  {
   "cell_type": "markdown",
   "id": "ffd654f4",
   "metadata": {},
   "source": [
    "## Approach 1: Using regular expressions"
   ]
  },
  {
   "cell_type": "code",
   "execution_count": 1,
   "id": "4c548f62",
   "metadata": {},
   "outputs": [],
   "source": [
    "import spacy\n",
    "import re"
   ]
  },
  {
   "cell_type": "code",
   "execution_count": 2,
   "id": "ae5207a4",
   "metadata": {},
   "outputs": [],
   "source": [
    "# this loads and processes only one file at a time. You need to do 5 and comment on the results\n",
    "# to load the 5 texts, you can just change the name of the file below or figure out a way \n",
    "# to pass a list of files to the read command. It's up to you\n",
    "\n",
    "with open (\"data/5c1dbe1d1e67d78e2797d611.txt\", \"r\", encoding='utf-8') as f:\n",
    "    text = f.read()"
   ]
  },
  {
   "cell_type": "code",
   "execution_count": 3,
   "id": "facf0d87",
   "metadata": {},
   "outputs": [],
   "source": [
    "def find_sents(text):\n",
    "    nlp = spacy.load(\"en_core_web_sm\")\n",
    "    doc = nlp(text)\n",
    "    sentences = list(doc.sents)\n",
    "    return(sentences)"
   ]
  },
  {
   "cell_type": "markdown",
   "id": "e9b25ae3",
   "metadata": {},
   "source": [
    "### Finding text within quotes"
   ]
  },
  {
   "cell_type": "code",
   "execution_count": 4,
   "id": "15e6dae0",
   "metadata": {},
   "outputs": [],
   "source": [
    "def get_quotes(text):\n",
    "    quotes = re.findall(r' \"(.*?)\"', text)\n",
    "    return(quotes)"
   ]
  },
  {
   "cell_type": "code",
   "execution_count": 5,
   "id": "9211596c",
   "metadata": {},
   "outputs": [],
   "source": [
    "found_sents = find_sents(text)"
   ]
  },
  {
   "cell_type": "code",
   "execution_count": 6,
   "id": "44e54193",
   "metadata": {},
   "outputs": [
    {
     "name": "stdout",
     "output_type": "stream",
     "text": [
      "[\"Honestly, it feels like we're living our worst nightmare right now,\"]\n",
      "['It does say that in the letter,', 'I have no idea where that information came from because both Clark and I were there in the office with all of the workers from the orphanage.']\n",
      "['the Government of Canada has obligations under international conventions to ensure children are not abducted, bought or sold, or removed from their biological families without legal consent.']\n",
      "['in some cases, extra steps in the citizenship or immigration process may be needed to make sure the adoption meets all requirements of international adoption.']\n",
      "[\"We're not giving up, but it feels really overwhelming to think about what this means and what they're trying to do to us right now,\"]\n",
      "[\"I can't believe that this is our life, that this is our story.\"]\n"
     ]
    }
   ],
   "source": [
    "# note: this just prints the text in quotes. If you want to save it locally\n",
    "# to analyze how the 3 approaches are different, you need to run a command to save\n",
    "# for instance to a text file\n",
    "\n",
    "for sent in found_sents:\n",
    "    str_sent = str(sent)\n",
    "    found_quotes = get_quotes(str_sent)\n",
    "    if len(found_quotes) > 0:\n",
    "        print(found_quotes)"
   ]
  },
  {
   "cell_type": "markdown",
   "id": "8d8c6a71",
   "metadata": {},
   "source": [
    "## Approach 2: Using spaCy's Matcher"
   ]
  },
  {
   "cell_type": "markdown",
   "id": "92488d32",
   "metadata": {},
   "source": [
    "This approach is based on notebooks by Dr. W.J.B. Mattingly, http://spacy.pythonhumanities.com"
   ]
  },
  {
   "cell_type": "code",
   "execution_count": 11,
   "id": "c740d981",
   "metadata": {},
   "outputs": [],
   "source": [
    "# load all the stuff we'll need\n",
    "import spacy\n",
    "from spacy import displacy\n",
    "from spacy.matcher import Matcher\n",
    "\n",
    "nlp = spacy.load(\"en_core_web_sm\")\n",
    "matcher = Matcher(nlp.vocab)"
   ]
  },
  {
   "cell_type": "markdown",
   "id": "411eae45",
   "metadata": {},
   "source": [
    "## spaCy's Matcher\n",
    "This notebook relies on spaCy's Matcher (see Advanced NLP with spaCy, [chapter 2](https://course.spacy.io/en/chapter2)). "
   ]
  },
  {
   "cell_type": "markdown",
   "id": "d2ed7cac",
   "metadata": {},
   "source": [
    "## Finding quotes and speakers"
   ]
  },
  {
   "cell_type": "code",
   "execution_count": 154,
   "id": "29bad1a4",
   "metadata": {},
   "outputs": [],
   "source": [
    "# load a text file. Remember, you have to do 5\n",
    "with open (\"data/5c1dbe1d1e67d78e2797d611.txt\", \"r\", encoding='utf-8') as f:\n",
    "    text = f.read()\n",
    "with open (\"data/5c1dccbf1e67d78e279807d8.txt\", \"r\", encoding='utf-8') as f:\n",
    "    text2 = f.read()\n",
    "with open (\"data/5c1de1661e67d78e27984d34.txt\", \"r\", encoding='utf-8') as f:\n",
    "    text3 = f.read()\n",
    "    "
   ]
  },
  {
   "cell_type": "code",
   "execution_count": 155,
   "id": "34f969ec",
   "metadata": {},
   "outputs": [
    {
     "name": "stdout",
     "output_type": "stream",
     "text": [
      " CTV Vancouver. \n",
      " An Abbotsford, B.C. couple that has been waiting nearly two years to bring their newly adopted son home from Africa has learned that the Canadian government is not prepared to grant the child citizenship. \n",
      " Kim and Clark Moran received a letter this week from Immigration, Refugees and Citizenship Canada informing them that the federal department has concerns about two-year-old Ayo, whom the couple claims they adopted from an orphanage in Nigeria and gained custody of in August. \n",
      " \"Honestly, it feels like we're living our worst nightmare right now,\" Kim told CTV News Friday. \"The fact that we are being accused right now of an unethical adoption is crazy.\". \n",
      " CTV News has learned that a third party has come forward with an allegation that Ayo's adoption came from a private residence and not an orphanage. \n",
      " \"It does say that in the letter,\" Kim confirmed, adding that \"I have no idea where that information came from because both Clark and I were there in the office with all of the workers from the orphanage.\". \n",
      " Kim would not share a copy of the letter with CTV. \n",
      " In a statement, IRCC did not reveal any details regarding the Ayo's paperwork, but said \"the Government of Canada has obligations under international conventions to ensure children are not abducted, bought or sold, or removed from their biological families without legal consent.\". \n",
      " The department added that \"in some cases, extra steps in the citizenship or immigration process may be needed to make sure the adoption meets all requirements of international adoption.\". \n",
      " The Morans' story first made headlines in October, some three months after they first travelled to Africa to finalize the adoption. \n",
      " According to Kim, the Canadian high commission in Nigeria doesn't have an immigration office, so all adoptions out of that country have to be processed in Ghana. \n",
      " Thinking that the immigration papers that would allow them to bring Ayo back to B.C. wouldn't take more than a few weeks to be finalized, Clark headed back to Canada while Kim and their son remained in Accra. \n",
      " It would be months, however, before the family got an update. \n",
      " Kim was forced to switch places with Clark late last month after her multiple sclerosis flared up. \n",
      " He is now in Ghana with Ayo and she is back in B.C., but it's unclear what the family's future will look like. \n",
      " \"If Canada doesn't grant him citizenship, what happens? They send him back to Nigeria to an orphanage? They take him from us even though he's legally our son?\" Kim said. \n",
      " IRCC has told CTV that under ideal circumstances, the two-step adoption and immigration process can take between six and eight months, but that timeframe can be as long as two years depending on the child's country of origin and other factors. \n",
      " The Morans' paperwork was received in February 2017. A year and 10 months later, the family's adoption process is at the top end of the government's estimated timeline, but has not exceeded it. \n",
      " The Morans have 60 days to respond to the letter, and the IRCC stressed Friday that a final decision on Ayo's citizenship application has not yet been made. \n",
      " Kim said the family is working with an immigration lawyer as well as the adoption agency, whose name she would not reveal, as they weigh their options. \n",
      " \"We're not giving up, but it feels really overwhelming to think about what this means and what they're trying to do to us right now,\" she said. \n",
      " \"I can't believe that this is our life, that this is our story.\". \n",
      " With files from CTV Vancouver's Ben Miljure\n",
      "\n",
      "OTTAWA — Conservative Leader Andrew Scheer says Prime Minister Justin Trudeau is the most divisive prime minister in the history of Canada. \n",
      " Scheer is lashing out at Trudeau and the Liberal party for dismissing anyone who disagrees with them, particularly anyone who has questions about Canada’s immigration system. \n",
      " READ MORE: Federal budget won’t be balanced until 2040, Finance Department says. \n",
      " “I actually think Justin Trudeau’s approach to label people who have legitimate concerns with his issues as being un-Canadian and intolerant, that is very dangerous,” said Scheer. \n",
      " His comments come several days after Trudeau told The Canadian Press that Scheer and the Conservatives were playing a dangerous game themselves by lying to Canadians to drum up fear over immigration. \n",
      " WATCH: Scheer receives warm welcome at oil rally. \n",
      " Both leaders are issuing similar accusations at the same time as they are promising to run positive, upbeat campaigns for the 2019 election. \n",
      " READ MORE: Western Canadian grassroots group plans ‘Convoy to Ottawa’ to push pipelines. \n",
      " Following their 2015 election loss the Conservatives acknowledged they had taken on a more negative tone and pledged to brighten up by the next campaign. In an interview in front of a roaring fire in the living room of his official residence in Ottawa, Scheer said he is confident the party has learned from that mistake. \n",
      " If any of his MPs resort to name-calling — Calgary MP Michelle Rempel earlier this week called Immigration Minister Ahmed Hussen a “chicken” on Twitter, for example — Scheer insists it is in reaction to the Liberals and doesn’t apologize for it. \n",
      " Also, you don’t show up to debate me. You had your cronies vote down a motion to appear before our committee to get grilled on immigration levels. Every time you appear to “debate”, you are condescending and smug your defence of the indefensible. Bring it, but you won’t. Chicken. https://t.co/oI5iCg4bU3 — Michelle Rempel (@MichelleRempel) December 18, 2018. \n",
      " “When we’re the victims of insulting language and attacks it’s obviously going to evoke a response,” he said. \n",
      " But he said the general message the Conservatives will put to Canadians “will have a positive aspirational aspect to it.”. \n",
      " READ MORE: ‘Domestic realities,’ not #WelcomeToCanada tweet, to blame for migrants ‘fleeing’ U.S.: Trudeau. \n",
      " It is on Trudeau’s watch, Scheer said, that the country is facing regional divisions and jurisdictional battles over oil pipelines. And it is on Trudeau’s watch, he went on, that what the Conservatives call “illegal border crossers” have become a major problem, Over 38,000 irregular migrants who originate from places like Haiti, Somalia and El Salvador have arrived in Canada since the beginning of 2017. \n",
      " Scheer said he and his party are not anti-immigration, they are anti-cheaters. \n",
      " WATCH: Canadians’ detainment demonstrate’s Trudeau’s ‘naïve approach’ to relations with China: Scheer. \n",
      " “The Conservative party believes Canada is stronger for being able to welcome people from all over the world. We are proud of being in a country that has the ability to welcome people who are facing persecution and fleeing civil war and genocide. But in order to be able to continue to have that type of a system we have to maintain the confidence of Canadians in it. We have to make sure people come to Canada the right way,” he said. \n",
      " READ MORE: It’s advantage Liberals going into 2019, with Conservatives needing a Trudeau stumble: Ipsos poll. \n",
      " A spokeswoman for Trudeau said he is not going to shy away from pointing out inaccuracies or falsehoods in Conservative messages. \n",
      " “Canadians clearly rejected Stephen Harper’s divisive approach in the last election, which is the same approach the Conservatives are relying on now,” said Eleanore Catenaro. “Whether it is spreading falsehoods about immigration, ignoring the science behind climate change, or engaging in personal attacks, Mr. Scheer and the Conservatives are continuing to play up people’s fears and anxieties for short-term political gain.”. \n",
      " WATCH: Trudeau discusses Alberta oil crisis and Western alienation. \n",
      " Scheer’s stance against the recent United Nations Global Compact for Safe, Orderly and Regular Migration was one of the things that provoked anger in Trudeau. Trudeau said the Conservatives are flat-out lying when they say the agreement overrides Canada’s sovereignty to make decisions about its immigration system or will force media to take specific positions on immigration. \n",
      " READ MORE: Some politicians trying to ‘exploit’ Western alienation over Trans Mountain: Trudeau. \n",
      " Several immigration lawyers and experts say the compact is not binding and mainly is an attempt to help the world bring order and consistency to the growing numbers of migrants fleeing war, persecution, famine or extreme weather. \n",
      " Scheer said when Trudeau and other Liberals dismiss any concerns with the compact out of hand, or try to tie people who challenge it to extremist groups because they have similar opinions on that subject, he is insulting not just the Conservatives but hundreds of thousands of Canadians who have the same questions. \n",
      " “People who have those legitimate concerns deserve to be spoken to with respect and have their concerns taken into account, not brushed aside with insulting labels,” Scheer said. “That’s I think a very dangerous thing to do. “It really evokes a negative reaction.”\n"
     ]
    }
   ],
   "source": [
    "# convert it to a spacy doc\n",
    "doc = nlp(text)\n",
    "doc2 = nlp(text2)\n",
    "doc3 = nlp(text3)\n",
    "\n",
    "#show the text\n",
    "print(doc)\n",
    "print(doc3)"
   ]
  },
  {
   "cell_type": "markdown",
   "id": "a749f943",
   "metadata": {},
   "source": [
    "### Finding proper nouns"
   ]
  },
  {
   "cell_type": "code",
   "execution_count": 166,
   "id": "86fedc97",
   "metadata": {},
   "outputs": [
    {
     "name": "stdout",
     "output_type": "stream",
     "text": [
      "amount of matches: 2\n",
      "(14005109985357489646, 336, 366) According to Kim, the Canadian high commission in Nigeria doesn't have an immigration office, so all adoptions out of that country have to be processed in Ghana\n",
      "(14005109985357489646, 633, 663) Kim said the family is working with an immigration lawyer as well as the adoption agency, whose name she would not reveal, as they weigh their options.\n"
     ]
    }
   ],
   "source": [
    "## Extract multi-word nouns \n",
    "## greedy = \"LONGEST\" will match as much as possible of the noun, in this case, do we want \"CTV News Friday\" or just Friday?\n",
    "\n",
    "matcher = Matcher(nlp.vocab)\n",
    "pattern_n = [{\"POS\": \"PROPN\", \"OP\": \"+\"}]\n",
    "matcher.add(\"PROPER_NOUNS\", [pattern_n], greedy=\"LONGEST\")\n",
    "doc = nlp(text)\n",
    "matches = matcher(doc)\n",
    "#print (len(matches))\n",
    "#for match in matches[:10]:\n",
    "    #print (match, doc[match[1]:match[2]])\n",
    "\n",
    "# Dependency Parse: https://spacy.io/usage/visualizers\n",
    "# https://spacy.io/usage/linguistic-features#named-entities\n",
    "\n",
    "# spaCy matcher documentation: https://spacy.io/api/matcher\n",
    "\n",
    "\n",
    "#matchlist = []\n",
    "matcher = Matcher(nlp.vocab)\n",
    "# pattern_z = [{\"TEXT\": \"said\", \"OP\": \"+\"}]\n",
    "# pattern_q = [{'TEXT': 'said'}, {'IS_ALPHA': True, \"OP\": \"+\"}, {'IS_PUNCT': True, \"OP\": \"*\"}, {'ORTH': '.'}]\n",
    "\n",
    "pattern_q = [\n",
    "    \n",
    "    #PROPN, said\n",
    "    [{\"POS\": \"PROPN\", \"OP\": \"+\"}, {'TEXT': 'said'}, {'IS_ALPHA': True, \"OP\": \"+\"}, {'IS_PUNCT': True, \"OP\": \"*\"}, {'IS_ALPHA': True, \"OP\": \"*\"}, {'IS_PUNCT': True, \"OP\": \"*\"}, {'IS_ALPHA': True, \"OP\": \"*\"}, {'ORTH': \".\"}], \n",
    "    \n",
    "    #According to\n",
    "    [{\"TEXT\": 'According'}, {'IS_ALPHA': True, \"OP\": \"*\"}, {'IS_PUNCT': True, \"OP\": \"*\"}, {\"IS_ALPHA\": True, \"OP\": \"*\"}, {\"POS\": \"PART\", \"OP\": \"*\"}, {'IS_ALPHA': True, \"OP\": \"*\"}, {'IS_PUNCT': True, \"OP\": \"*\"}, {\"IS_ALPHA\": True, \"OP\": \"*\"}]\n",
    "    \n",
    "]\n",
    "\n",
    "matcher.add(\"INDIRECT QUOTES\", pattern_q, greedy=\"LONGEST\")\n",
    "doc2 = nlp(text)\n",
    "matches = matcher(doc2)\n",
    "print (\"amount of matches:\", len(matches))\n",
    "for match in matches[:10]:\n",
    "    #print(match)\n",
    "    print (match, doc2[match[1]:match[2]])\n",
    "    #matchlist.append(doc[match[1]:match[2]])\n",
    "    \n",
    "\n",
    "# In this text, some indirect examples of quotes are According to [person],\n",
    "# IRCC has told, IRCC has stressed, Kim said, \n",
    "\n"
   ]
  },
  {
   "cell_type": "markdown",
   "id": "0bba7ee4",
   "metadata": {},
   "source": [
    "### Finding quotes"
   ]
  },
  {
   "cell_type": "code",
   "execution_count": 73,
   "id": "3f857916",
   "metadata": {},
   "outputs": [
    {
     "name": "stdout",
     "output_type": "stream",
     "text": [
      "3\n",
      "(16432004385153140588, 115, 133) \"The fact that we are being accused right now of an unethical adoption is crazy.\"\n",
      "(16432004385153140588, 164, 174) \"It does say that in the letter,\"\n",
      "(16432004385153140588, 179, 209) \"I have no idea where that information came from because both Clark and I were there in the office with all of the workers from the orphanage.\"\n"
     ]
    }
   ],
   "source": [
    "# a simple pattern to extract things in single quotes\n",
    "# as with Approach 1, the for loop prints the results to the screen\n",
    "# you can try and save it to a file if you want to compare with Approach 1 and 3\n",
    "\n",
    "matcher = Matcher(nlp.vocab)\n",
    "pattern_q = [{'ORTH': '\"'}, {'IS_ALPHA': True, \"OP\": \"+\"}, {'IS_PUNCT': True, \"OP\": \"*\"}, {'ORTH': '\"'}]\n",
    "matcher.add(\"QUOTES\", [pattern_q], greedy='LONGEST')\n",
    "doc = nlp(text)\n",
    "matches_q = matcher(doc)\n",
    "matches_q.sort(key = lambda x: x[1])\n",
    "print (len(matches_q))\n",
    "for match in matches_q[:10]:\n",
    "    print (match, doc[match[1]:match[2]])\n"
   ]
  },
  {
   "cell_type": "markdown",
   "id": "f0a9e0bd",
   "metadata": {},
   "source": [
    "## Approach 3: Implemented version\n",
    "This approach was implemented by colleagues at the [Australian Text Analytics Platform](https://www.atap.edu.au/) (ATAP). The approach is based on the [Gender Gap Tracker](https://github.com/sfu-discourse-lab/GenderGapTracker) done in the Discourse Processing Lab here at SFU. \n",
    "\n",
    "The first link below leads you to a binder where you can load your own files and download the output. If you prefer to do everything in your own notebook, you can download/clone the project and you'll see a notebook there (quote_extractor_notebook.ipynb)\n",
    "\n",
    "* [Binder link](https://github.com/Australian-Text-Analytics-Platform/quotation-tool/blob/workshop_01_20220908/README.md)\n",
    "* [Regular GitHub project](https://github.com/Australian-Text-Analytics-Platform/quotation-tool)\n",
    "\n",
    "Within the ATAP binder, upload 5 files from A1/data (the same you did for approaches 1 and 2), process them and download the results to your own computer. "
   ]
  },
  {
   "cell_type": "markdown",
   "id": "6115a0d8",
   "metadata": {},
   "source": [
    "## Your turn\n",
    "\n",
    "Check instructions on Canvas for what to do and what to submit. \n",
    "\n"
   ]
  },
  {
   "cell_type": "code",
   "execution_count": null,
   "id": "a925ebf9",
   "metadata": {},
   "outputs": [],
   "source": []
  }
 ],
 "metadata": {
  "kernelspec": {
   "display_name": "Python 3 (ipykernel)",
   "language": "python",
   "name": "python3"
  },
  "language_info": {
   "codemirror_mode": {
    "name": "ipython",
    "version": 3
   },
   "file_extension": ".py",
   "mimetype": "text/x-python",
   "name": "python",
   "nbconvert_exporter": "python",
   "pygments_lexer": "ipython3",
   "version": "3.9.12"
  }
 },
 "nbformat": 4,
 "nbformat_minor": 5
}
