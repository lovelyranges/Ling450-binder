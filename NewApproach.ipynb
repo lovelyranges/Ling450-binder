{
 "cells": [
  {
   "cell_type": "markdown",
   "id": "a8254947",
   "metadata": {},
   "source": [
    "## Expansion on Approach 2: \"capture all the strings in quotes, but not shorter strings that are not really quotes, and the speaker of each quote.\"\n"
   ]
  },
  {
   "cell_type": "code",
   "execution_count": 2,
   "id": "05b97995",
   "metadata": {},
   "outputs": [],
   "source": [
    "# load all the stuff we'll need\n",
    "import spacy\n",
    "from spacy import displacy\n",
    "from spacy.matcher import Matcher\n",
    "\n",
    "nlp = spacy.load(\"en_core_web_sm\")\n",
    "matcher = Matcher(nlp.vocab)"
   ]
  },
  {
   "cell_type": "code",
   "execution_count": 3,
   "id": "de53b22f",
   "metadata": {},
   "outputs": [],
   "source": [
    "# load 5 text files \n",
    "with open (\"data/5c1dbe1d1e67d78e2797d611.txt\", \"r\", encoding='utf-8') as f:\n",
    "    text1 = f.read()\n",
    "with open (\"data/5c1dccbf1e67d78e279807d8.txt\", \"r\", encoding='utf-8') as f:\n",
    "    text2 = f.read()\n",
    "with open (\"data/5c1de1661e67d78e27984d34.txt\", \"r\", encoding='utf-8') as f:\n",
    "    text3 = f.read()\n",
    "with open (\"data/5c1e0b68795bd2a5d03a49a9.txt\", \"r\", encoding='utf-8') as f:\n",
    "    text4 = f.read()\n",
    "with open (\"data/5c1efb3d1e67d78e279bd39a.txt\", \"r\", encoding='utf-8') as f:\n",
    "    text5 = f.read()"
   ]
  },
  {
   "cell_type": "code",
   "execution_count": 7,
   "id": "1e2b1ba3",
   "metadata": {},
   "outputs": [
    {
     "name": "stdout",
     "output_type": "stream",
     "text": [
      " CTV Vancouver. \n",
      " An Abbotsford, B.C. couple that has been waiting nearly two years to bring their newly adopted son home from Africa has learned that the Canadian government is not prepared to grant the child citizenship. \n",
      " Kim and Clark Moran received a letter this\n",
      "------\n",
      "When I first walk into his store, a fantastical comic book shop lodged discreetly in Kitchener’s Frederick Mall, I spot him from the corner of my eye, the gracious gatekeeper who invites visitors into a world of fantasy and makes their dreams come true. No\n",
      "------\n",
      "OTTAWA — Conservative Leader Andrew Scheer says Prime Minister Justin Trudeau is the most divisive prime minister in the history of Canada. \n",
      " Scheer is lashing out at Trudeau and the Liberal party for dismissing anyone who disagrees with them, particularly anyone who has questions about Canada’s\n",
      "------\n",
      "Open this photo in gallery A cyclist rides by a shuttered homes in the West Point Grey neighbourhood area of Vancouver on Oct. 29, 2015. Ben Nelms. \n",
      " Last week, Vancouver’s new city council voted resoundingly to send a letter to the provincial government demanding\n",
      "------\n",
      "Employees at a second Stella's Caf location in Winnipeg have voted to unionize. \n",
      " A release sent to media from UFCW Local 832 late Friday said a majority of the 68 workers at the Sherbrook Street Stella's location said yes to joining the union. \n",
      " The\n",
      "------\n"
     ]
    }
   ],
   "source": [
    "# Convert texts to Docs\n",
    "doc1 = nlp(text1)\n",
    "doc2 = nlp(text2)\n",
    "doc3 = nlp(text3)\n",
    "doc4 = nlp(text4)\n",
    "doc5 = nlp(text5)\n",
    "\n",
    "docList = [doc1, doc2, doc3, doc4, doc5]\n",
    "\n",
    "# Show first few contents of each document\n",
    "for doc in docList:\n",
    "    print(doc[0:50])\n",
    "    print(\"------\")"
   ]
  },
  {
   "cell_type": "code",
   "execution_count": 10,
   "id": "93d786a4",
   "metadata": {},
   "outputs": [
    {
     "name": "stdout",
     "output_type": "stream",
     "text": [
      "\"If Canada doesnt grant him citizenship what happens They send him back to Nigeria to an orphanage They take him from us even though he is legally our son\" Kim said.\n",
      "----------\n",
      "\"Honestly it feels like we are living our worst nightmare right now\" Kim told CTV News Friday.\n",
      "----------\n",
      "“If Alfonso wasnt publishing local comics I dont think Xander would be doing what hes doing.” says Wises dad Darrin.\n",
      "----------\n",
      "“Im a comic book creator myself.” notes Espinos.\n",
      "----------\n",
      "“Every publisher rejected me.” says Cambridge cartoonist Andre Campbell.\n",
      "----------\n",
      "“People who have those legitimate concerns deserve to be spoken to with respect and have their concerns taken into account not brushed aside with insulting labels,” Scheer said.\n",
      "----------\n",
      "“I actually think Justin Trudeaus approach to label people who have legitimate concerns with his issues as being unCanadian and intolerant that is very dangerous,” said Scheer.\n",
      "----------\n",
      "“Canadians clearly rejected Stephen Harpers divisive approach in the last election which is the same approach the Conservatives are relying on now,” said Eleanore Catenaro.\n",
      "----------\n",
      "\"Its a positive thing for the workers at Stellas They now have a unified voice to bring their concerns forward to management\" Jeff Traeger said Saturday.\n",
      "----------\n"
     ]
    }
   ],
   "source": [
    "# Match quote to speaker\n",
    "# Expansion: To capture speaker, make use of speech verbs\n",
    "\n",
    "speech_verbs = [\"told\", \"confirmed\", \"notes\", \"says\", \"said\"]\n",
    "\n",
    "matcher = Matcher(nlp.vocab)\n",
    "\n",
    "pattern_test = [\n",
    "    \n",
    "    # Variation 1: \"Quote\" Speaker speechverb. \n",
    "    # Example: \"The sky is blue.\" Speaker confirmed.\n",
    "    [    \n",
    "        # Quote\n",
    "       {\"ORTH\": {\"IN\": ['\"',\"“\"]}}, {\"IS_ALPHA\": True, \"OP\": \"+\"}, {\"IS_PUNCT\": True, \"OP\": \"*\"},\n",
    "         # Speaker + speech verb.\n",
    "         {\"POS\": \"PROPN\", \"OP\": \"+\"}, {\"ORTH\": {\"IN\": speech_verbs}}, {\"IS_ALPHA\": True, \"OP\": \"*\"}, {\"ORTH\": \".\"}],\n",
    "    \n",
    "    # Variation 2: \"Quote\" speechverb Speaker. \n",
    "    # Example: \"The sky is blue.\" says Speaker.\n",
    "    [\n",
    "\n",
    "       {\"ORTH\": {\"IN\": ['\"',\"“\"]}}, {\"IS_ALPHA\": True, \"OP\": \"+\"}, {\"IS_PUNCT\": True, \"OP\": \"*\"},\n",
    "        # speech verb + speaker\n",
    "         {\"ORTH\": {\"IN\": speech_verbs}}, {\"IS_ALPHA\": True, \"OP\": \"*\"}, {\"IS_PUNCT\": True, \"OP\": \"*\"}, {\"IS_PUNCT\": True, \"OP\": \"*\"}, {\"POS\": \"PROPN\", \"OP\": \"+\"}, {\"ORTH\": \".\"}\n",
    "         ]\n",
    "    \n",
    "]\n",
    "\n",
    "\n",
    "matcher.add(\"QUOTE_WITH_SPEAKERS\", pattern_test, greedy=\"LONGEST\")\n",
    "\n",
    "matches1= matcher(doc1)\n",
    "matches2= matcher(doc2)\n",
    "matches3= matcher(doc3)\n",
    "matches4= matcher(doc4)\n",
    "matches5= matcher(doc5)\n",
    "\n",
    "matchList = [matches1, matches2, matches3, matches4, matches5]\n",
    "quoteSpeakerList = []\n",
    "\n",
    "count = 0\n",
    "# Run all five texts, and add all of the matches from them into a list.\n",
    "for i in range(5):\n",
    "    for match in matchList[count][:10]:\n",
    "        quoteSpeakerList.append((docList[count][match[1]:match[2]]))\n",
    "    count += 1\n",
    "\n",
    "\n",
    "# Print out all of the quotes, including the speakers\n",
    "for quotes in quoteSpeakerList:\n",
    "  \n",
    "    # Add a space in between the quotes found across different texts\n",
    "    print(quotes)\n",
    "    print(\"----------\")\n",
    "\n"
   ]
  },
  {
   "cell_type": "markdown",
   "id": "21c9a3ec",
   "metadata": {},
   "source": [
    "### Isolating Quotes"
   ]
  },
  {
   "cell_type": "code",
   "execution_count": 12,
   "id": "479bfe12",
   "metadata": {},
   "outputs": [
    {
     "name": "stdout",
     "output_type": "stream",
     "text": [
      "\"If Canada doesnt grant him citizenship what happens They send him back to Nigeria to an orphanage They take him from us even though he is legally our son\"\n",
      "-----------\n",
      "\"Honestly it feels like we are living our worst nightmare right now\"\n",
      "-----------\n",
      "“If Alfonso wasnt publishing local comics I dont think Xander would be doing what hes doing.”\n",
      "-----------\n",
      "“Im a comic book creator myself.”\n",
      "-----------\n",
      "“Every publisher rejected me.”\n",
      "-----------\n",
      "“People who have those legitimate concerns deserve to be spoken to with respect and have their concerns taken into account not brushed aside with insulting labels,”\n",
      "-----------\n",
      "“I actually think Justin Trudeaus approach to label people who have legitimate concerns with his issues as being unCanadian and intolerant that is very dangerous,”\n",
      "-----------\n",
      "“Canadians clearly rejected Stephen Harpers divisive approach in the last election which is the same approach the Conservatives are relying on now,”\n",
      "-----------\n",
      "\"Its a positive thing for the workers at Stellas They now have a unified voice to bring their concerns forward to management\"\n",
      "-----------\n"
     ]
    }
   ],
   "source": [
    "matcherQuote = Matcher(nlp.vocab)\n",
    "pattern_quote = [{\"ORTH\": {\"IN\": ['\"',\"“\", '”']}}, {\"IS_ALPHA\": True, \"OP\": \"+\"}, {\"IS_PUNCT\": True, \"OP\": \"*\"}, {\"ORTH\": {\"IN\": ['\"','“', '”']}}]\n",
    "matcherQuote.add(\"QUOTES\", [pattern_quote], greedy = \"LONGEST\")\n",
    "\n",
    "quoteCount = 0\n",
    "\n",
    "for i in range(len(quoteSpeakerList)):\n",
    "    matchedQuote = matcherQuote(quoteSpeakerList[quoteCount])\n",
    "    for match_id, start, end in matchedQuote:\n",
    "        print(quoteSpeakerList[quoteCount][start:end])\n",
    "        print(\"-----------\")\n",
    "    quoteCount += 1\n"
   ]
  },
  {
   "cell_type": "markdown",
   "id": "7915418d",
   "metadata": {},
   "source": [
    "### Isolating Speakers"
   ]
  },
  {
   "cell_type": "code",
   "execution_count": 13,
   "id": "ef68169a",
   "metadata": {},
   "outputs": [
    {
     "name": "stdout",
     "output_type": "stream",
     "text": [
      "says Wises\n",
      "“If Alfonso wasnt publishing local comics I dont think Xander would be doing what hes doing.” says Wises dad Darrin.\n"
     ]
    }
   ],
   "source": [
    "# GOAL: Grab the speakers at the end of each quote\n",
    "# Question: How can I grab just the name, but after the quote?\n",
    "# How can I distinguish \"CTV NEWS\" as a non-speaker?\n",
    "# This part is glitchy and does not work unfortunately.\n",
    "\n",
    "pattern_speaker = [\n",
    "    \n",
    "    # SPEAKER + SPEECH VERB\n",
    "    [{\"POS\": \"PROPN\", \"OP\": \"+\"}, {\"ORTH\": {\"IN\": speech_verbs}}],\n",
    "    \n",
    "    # SPEECH VERB + SPEAKER\n",
    "    [{\"ORTH\": {\"IN\": speech_verbs}}, {\"POS\": \"PROPN\", \"OP\": \"+\"}]\n",
    "                  \n",
    "                  ]\n",
    "\n",
    "speakerMatcher = Matcher(nlp.vocab)\n",
    "speakerMatcher.add(\"SPEAKER\", pattern_speaker, greedy = \"LONGEST\")\n",
    "\n",
    "speakerMatches = speakerMatcher(quoteSpeakerList[2])\n",
    "for match_id, start, end in speakerMatches:\n",
    "    print(quoteSpeakerList[2][start:end]) \n",
    "\n",
    "print(quoteSpeakerList[2])"
   ]
  },
  {
   "cell_type": "code",
   "execution_count": null,
   "id": "c9a33af5",
   "metadata": {},
   "outputs": [],
   "source": []
  }
 ],
 "metadata": {
  "kernelspec": {
   "display_name": "Python 3 (ipykernel)",
   "language": "python",
   "name": "python3"
  },
  "language_info": {
   "codemirror_mode": {
    "name": "ipython",
    "version": 3
   },
   "file_extension": ".py",
   "mimetype": "text/x-python",
   "name": "python",
   "nbconvert_exporter": "python",
   "pygments_lexer": "ipython3",
   "version": "3.9.12"
  }
 },
 "nbformat": 4,
 "nbformat_minor": 5
}
